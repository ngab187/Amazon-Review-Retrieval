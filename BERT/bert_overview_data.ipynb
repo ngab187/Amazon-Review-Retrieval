{
  "cells": [
    {
      "cell_type": "code",
      "execution_count": null,
      "id": "bab117b8-793b-4084-971e-5dd2858a7977",
      "metadata": {
        "scrolled": true,
        "colab": {
          "base_uri": "https://localhost:8080/"
        },
        "id": "bab117b8-793b-4084-971e-5dd2858a7977",
        "outputId": "43780224-5387-48fd-a824-fb7a4f8a9a7b"
      },
      "outputs": [
        {
          "output_type": "stream",
          "name": "stdout",
          "text": [
            "Requirement already satisfied: pandas in /usr/local/lib/python3.10/dist-packages (2.2.2)\n",
            "Requirement already satisfied: transformers in /usr/local/lib/python3.10/dist-packages (4.47.1)\n",
            "Requirement already satisfied: scipy in /usr/local/lib/python3.10/dist-packages (1.13.1)\n",
            "Requirement already satisfied: numpy>=1.22.4 in /usr/local/lib/python3.10/dist-packages (from pandas) (1.26.4)\n",
            "Requirement already satisfied: python-dateutil>=2.8.2 in /usr/local/lib/python3.10/dist-packages (from pandas) (2.8.2)\n",
            "Requirement already satisfied: pytz>=2020.1 in /usr/local/lib/python3.10/dist-packages (from pandas) (2024.2)\n",
            "Requirement already satisfied: tzdata>=2022.7 in /usr/local/lib/python3.10/dist-packages (from pandas) (2024.2)\n",
            "Requirement already satisfied: filelock in /usr/local/lib/python3.10/dist-packages (from transformers) (3.16.1)\n",
            "Requirement already satisfied: huggingface-hub<1.0,>=0.24.0 in /usr/local/lib/python3.10/dist-packages (from transformers) (0.27.0)\n",
            "Requirement already satisfied: packaging>=20.0 in /usr/local/lib/python3.10/dist-packages (from transformers) (24.2)\n",
            "Requirement already satisfied: pyyaml>=5.1 in /usr/local/lib/python3.10/dist-packages (from transformers) (6.0.2)\n",
            "Requirement already satisfied: regex!=2019.12.17 in /usr/local/lib/python3.10/dist-packages (from transformers) (2024.11.6)\n",
            "Requirement already satisfied: requests in /usr/local/lib/python3.10/dist-packages (from transformers) (2.32.3)\n",
            "Requirement already satisfied: tokenizers<0.22,>=0.21 in /usr/local/lib/python3.10/dist-packages (from transformers) (0.21.0)\n",
            "Requirement already satisfied: safetensors>=0.4.1 in /usr/local/lib/python3.10/dist-packages (from transformers) (0.4.5)\n",
            "Requirement already satisfied: tqdm>=4.27 in /usr/local/lib/python3.10/dist-packages (from transformers) (4.67.1)\n",
            "Requirement already satisfied: fsspec>=2023.5.0 in /usr/local/lib/python3.10/dist-packages (from huggingface-hub<1.0,>=0.24.0->transformers) (2024.10.0)\n",
            "Requirement already satisfied: typing-extensions>=3.7.4.3 in /usr/local/lib/python3.10/dist-packages (from huggingface-hub<1.0,>=0.24.0->transformers) (4.12.2)\n",
            "Requirement already satisfied: six>=1.5 in /usr/local/lib/python3.10/dist-packages (from python-dateutil>=2.8.2->pandas) (1.17.0)\n",
            "Requirement already satisfied: charset-normalizer<4,>=2 in /usr/local/lib/python3.10/dist-packages (from requests->transformers) (3.4.0)\n",
            "Requirement already satisfied: idna<4,>=2.5 in /usr/local/lib/python3.10/dist-packages (from requests->transformers) (3.10)\n",
            "Requirement already satisfied: urllib3<3,>=1.21.1 in /usr/local/lib/python3.10/dist-packages (from requests->transformers) (2.2.3)\n",
            "Requirement already satisfied: certifi>=2017.4.17 in /usr/local/lib/python3.10/dist-packages (from requests->transformers) (2024.12.14)\n",
            "Python 3.10.12\n",
            "Requirement already satisfied: torch in /usr/local/lib/python3.10/dist-packages (2.5.1+cu121)\n",
            "Requirement already satisfied: torchvision in /usr/local/lib/python3.10/dist-packages (0.20.1+cu121)\n",
            "Requirement already satisfied: torchaudio in /usr/local/lib/python3.10/dist-packages (2.5.1+cu121)\n",
            "Requirement already satisfied: filelock in /usr/local/lib/python3.10/dist-packages (from torch) (3.16.1)\n",
            "Requirement already satisfied: typing-extensions>=4.8.0 in /usr/local/lib/python3.10/dist-packages (from torch) (4.12.2)\n",
            "Requirement already satisfied: networkx in /usr/local/lib/python3.10/dist-packages (from torch) (3.4.2)\n",
            "Requirement already satisfied: jinja2 in /usr/local/lib/python3.10/dist-packages (from torch) (3.1.4)\n",
            "Requirement already satisfied: fsspec in /usr/local/lib/python3.10/dist-packages (from torch) (2024.10.0)\n",
            "Requirement already satisfied: sympy==1.13.1 in /usr/local/lib/python3.10/dist-packages (from torch) (1.13.1)\n",
            "Requirement already satisfied: mpmath<1.4,>=1.1.0 in /usr/local/lib/python3.10/dist-packages (from sympy==1.13.1->torch) (1.3.0)\n",
            "Requirement already satisfied: numpy in /usr/local/lib/python3.10/dist-packages (from torchvision) (1.26.4)\n",
            "Requirement already satisfied: pillow!=8.3.*,>=5.3.0 in /usr/local/lib/python3.10/dist-packages (from torchvision) (11.0.0)\n",
            "Requirement already satisfied: MarkupSafe>=2.0 in /usr/local/lib/python3.10/dist-packages (from jinja2->torch) (3.0.2)\n"
          ]
        }
      ],
      "source": [
        "# Install the necessary libraries if they weren't already installed\n",
        "!pip install pandas transformers scipy\n",
        "\n",
        "# Install necessary libraries:\n",
        "import pandas as pd\n",
        "import numpy as np\n",
        "from transformers import pipeline, DistilBertTokenizerFast\n",
        "\n",
        "!python --version\n",
        "\n",
        "# For Sentiment Analysis:\n",
        "# prefix the command with ! to run it as a shell command in Jupyter Notebook\n",
        "#!pip install transformers\n",
        "#!pip install torch torchvision torchaudio --index-url https://download.pytorch.org/whl/cu117\n",
        "#!pip install tensorflow\n",
        "\n",
        "# Install PyTorch:\n",
        "#!pip install torch torchvision torchaudio transformers pandas --no-cache-dir\n",
        "#!pip install torch torchvision torchaudio --index-url https://download.pytorch.org/whl/cu117\n",
        "#!pip install torch torchvision torchaudio --no-cache-dir\n",
        "#!pip install torch torchvision torchaudio --index-url https://download.pytorch.org/whl/cpu --no-cache-dir\n",
        "!pip install torch torchvision torchaudio --no-cache-dir\n"
      ]
    },
    {
      "cell_type": "markdown",
      "id": "eccafe92",
      "metadata": {
        "id": "eccafe92"
      },
      "source": [
        "# What is the sentiment of the reviews, sorted by language?\n",
        "\n",
        "We selected the Amazon Reviews Multilingual Dataset as our dataset: https://www.kaggle.com/datasets/mexwell/amazon-reviews-multi/data. It depicts a comprehensive collection of multilingual product reviews in CSV format. This dataset contains about 1.3 million samples in 6 languages (DE = German, EN = English, ES = Spanish, FR = French, JA = Japanese, ZH = Chinese) with the following features:\n",
        "\n",
        "**review_id**:          A string identifier of the review.\n",
        "\n",
        "**product_id**:         A string identifier of the product being reviewed.\n",
        "\n",
        "**reviewer_id**:        A string identifier of the reviewer.\n",
        "\n",
        "**stars**:              An int between 1-5 indicating the number of stars.\n",
        "\n",
        "**review_body**:        The text body of the review.\n",
        "\n",
        "**review_title**:       The text title of the review.\n",
        "\n",
        "**language**:           The string identifier of the review language.\n",
        "\n",
        "**product_category**:   String representation of the product's category.\n",
        "\n",
        "The data will be directly downloaded and processed from the CSV files provided by the dataset. During preprocessing we will focus on removing stop words as well as choosing the correct embedding for the reviews."
      ]
    },
    {
      "cell_type": "markdown",
      "id": "a36a57c3",
      "metadata": {
        "id": "a36a57c3"
      },
      "source": [
        "#### Splitting:"
      ]
    },
    {
      "cell_type": "markdown",
      "id": "3b575e7e",
      "metadata": {
        "id": "3b575e7e"
      },
      "source": [
        "The data was split into sentiment labels based on a star rating, where:\n",
        "\n",
        "**1 (Positive): stars > 3**\n",
        "\n",
        "**0 (Negative): stars <= 3**"
      ]
    },
    {
      "cell_type": "markdown",
      "id": "5b56838a-312a-41b6-954b-39f1ac81e90d",
      "metadata": {
        "id": "5b56838a-312a-41b6-954b-39f1ac81e90d"
      },
      "source": [
        "## 0) Load DataFrame:"
      ]
    },
    {
      "cell_type": "code",
      "execution_count": null,
      "id": "a2695d75-4bf1-4718-b2aa-778a77dffbe2",
      "metadata": {
        "id": "a2695d75-4bf1-4718-b2aa-778a77dffbe2"
      },
      "outputs": [],
      "source": [
        "# Read csv-file:\n",
        "file_path = 'train.csv'\n",
        "df = pd.read_csv(file_path) # dataframe\n",
        "\n",
        "# columns: id, review_id, product_id, reviewer_id, stars, review_body, review_title, language, product_category"
      ]
    },
    {
      "cell_type": "markdown",
      "id": "ee786dcf-f988-4112-9f36-6e22e20681a8",
      "metadata": {
        "id": "ee786dcf-f988-4112-9f36-6e22e20681a8"
      },
      "source": [
        "## 1) Stars Ratings per Language"
      ]
    },
    {
      "cell_type": "code",
      "execution_count": null,
      "id": "6d4e983b-f611-417a-8b7d-892b4d49c28c",
      "metadata": {
        "id": "6d4e983b-f611-417a-8b7d-892b4d49c28c",
        "colab": {
          "base_uri": "https://localhost:8080/"
        },
        "outputId": "291dd212-fe13-4344-f307-06e2cbae2fd8"
      },
      "outputs": [
        {
          "output_type": "stream",
          "name": "stdout",
          "text": [
            "  language                                         stars_list\n",
            "0       de  [1, 1, 1, 1, 1, 1, 1, 1, 1, 1, 1, 1, 1, 1, 1, ...\n",
            "1       en  [1, 1, 1, 1, 1, 1, 1, 1, 1, 1, 1, 1, 1, 1, 1, ...\n",
            "2       es  [1, 1, 1, 1, 1, 1, 1, 1, 1, 1, 1, 1, 1, 1, 1, ...\n",
            "3       fr  [1, 1, 1, 1, 1, 1, 1, 1, 1, 1, 1, 1, 1, 1, 1, ...\n",
            "4       ja  [1, 1, 1, 1, 1, 1, 1, 1, 1, 1, 1, 1, 1, 1, 1, ...\n",
            "5       zh  [1, 1, 1, 1, 1, 1, 1, 1, 1, 1, 1, 1, 1, 1, 1, ...\n"
          ]
        }
      ],
      "source": [
        "stars_by_language = df.groupby('language')['stars'].apply(list).reset_index()\n",
        "stars_by_language.columns = ['language', 'stars_list']\n",
        "print(stars_by_language)"
      ]
    },
    {
      "cell_type": "markdown",
      "id": "f2d8d2a7-6a0b-4888-958b-0d8f303b1806",
      "metadata": {
        "id": "f2d8d2a7-6a0b-4888-958b-0d8f303b1806"
      },
      "source": [
        "#### Average:"
      ]
    },
    {
      "cell_type": "code",
      "execution_count": null,
      "id": "f52a760c-afbb-4038-b582-c71691a31474",
      "metadata": {
        "id": "f52a760c-afbb-4038-b582-c71691a31474",
        "colab": {
          "base_uri": "https://localhost:8080/"
        },
        "outputId": "28f56293-e3fd-4270-a5a1-2a707225fa6e"
      },
      "outputs": [
        {
          "output_type": "stream",
          "name": "stdout",
          "text": [
            "  language  average_stars\n",
            "0       de            3.0\n",
            "1       en            3.0\n",
            "2       es            3.0\n",
            "3       fr            3.0\n",
            "4       ja            3.0\n",
            "5       zh            3.0\n"
          ]
        }
      ],
      "source": [
        "# use mean()\n",
        "average_stars_by_language = df.groupby('language')['stars'].mean().reset_index()\n",
        "average_stars_by_language.columns = ['language', 'average_stars']\n",
        "print(average_stars_by_language)"
      ]
    },
    {
      "cell_type": "markdown",
      "id": "0c47cf11-e7b2-4c01-88aa-77009d47d8bb",
      "metadata": {
        "id": "0c47cf11-e7b2-4c01-88aa-77009d47d8bb"
      },
      "source": [
        "## 2) Stars Rating per Product Category:"
      ]
    },
    {
      "cell_type": "markdown",
      "id": "97540548-aa32-4325-9b9c-cfac9085273d",
      "metadata": {
        "id": "97540548-aa32-4325-9b9c-cfac9085273d"
      },
      "source": [
        "#### Average:"
      ]
    },
    {
      "cell_type": "code",
      "execution_count": null,
      "id": "83f4d866-b977-49ea-aa5a-e62204984081",
      "metadata": {
        "id": "83f4d866-b977-49ea-aa5a-e62204984081",
        "colab": {
          "base_uri": "https://localhost:8080/"
        },
        "outputId": "3a88d865-a20b-470b-973d-137115eb3b44"
      },
      "outputs": [
        {
          "output_type": "stream",
          "name": "stdout",
          "text": [
            "          product categories  average stars\n",
            "0                    apparel       3.044786\n",
            "1                 automotive       2.964200\n",
            "2               baby_product       3.061120\n",
            "3                     beauty       2.926140\n",
            "4                       book       3.106876\n",
            "5                     camera       3.060673\n",
            "6     digital_ebook_purchase       3.245418\n",
            "7     digital_video_download       2.763012\n",
            "8                  drugstore       2.959112\n",
            "9                electronics       2.930991\n",
            "10                 furniture       3.026564\n",
            "11                   grocery       2.907918\n",
            "12                      home       3.003828\n",
            "13          home_improvement       3.004487\n",
            "14       industrial_supplies       3.007675\n",
            "15                   jewelry       2.982347\n",
            "16                   kitchen       3.128376\n",
            "17           lawn_and_garden       2.858654\n",
            "18                   luggage       3.247048\n",
            "19       musical_instruments       3.089495\n",
            "20            office_product       3.063459\n",
            "21                     other       3.034575\n",
            "22                        pc       2.964731\n",
            "23  personal_care_appliances       2.972440\n",
            "24              pet_products       2.953073\n",
            "25                     shoes       3.143496\n",
            "26                    sports       3.042698\n",
            "27                       toy       2.992257\n",
            "28               video_games       2.892242\n",
            "29                     watch       2.908538\n",
            "30                  wireless       2.801281\n"
          ]
        }
      ],
      "source": [
        "# use mean()\n",
        "average_stars_by_product_category = df.groupby('product_category')['stars'].mean().reset_index()\n",
        "average_stars_by_product_category.columns = ['product categories', 'average stars']\n",
        "print(average_stars_by_product_category)"
      ]
    },
    {
      "cell_type": "markdown",
      "id": "4d9deef8-6a85-4a92-969d-b68e1a4c7786",
      "metadata": {
        "id": "4d9deef8-6a85-4a92-969d-b68e1a4c7786"
      },
      "source": [
        "## 3) Total Number of Reviews per Language:"
      ]
    },
    {
      "cell_type": "markdown",
      "id": "32413029-687b-4222-9df0-720be0d749f7",
      "metadata": {
        "id": "32413029-687b-4222-9df0-720be0d749f7"
      },
      "source": [
        "#### Check the Data Size:"
      ]
    },
    {
      "cell_type": "code",
      "execution_count": null,
      "id": "31bc47fd-9502-47fa-b1b1-82d984700f1b",
      "metadata": {
        "id": "31bc47fd-9502-47fa-b1b1-82d984700f1b",
        "colab": {
          "base_uri": "https://localhost:8080/"
        },
        "outputId": "4af4869b-99fa-4c7e-eaf1-12a1e6b6e1a2"
      },
      "outputs": [
        {
          "output_type": "stream",
          "name": "stdout",
          "text": [
            "Total rows in dataset: 1200000\n"
          ]
        }
      ],
      "source": [
        "print(\"Total rows in dataset:\", len(df)) # should be 1,200,000"
      ]
    },
    {
      "cell_type": "markdown",
      "id": "bc393fc4-9917-465f-b9ef-4aa64345e2d9",
      "metadata": {
        "id": "bc393fc4-9917-465f-b9ef-4aa64345e2d9"
      },
      "source": [
        "#### Count Reviews per Language"
      ]
    },
    {
      "cell_type": "code",
      "execution_count": null,
      "id": "76c2fdb5-5468-4385-a518-4ae0078e23e2",
      "metadata": {
        "id": "76c2fdb5-5468-4385-a518-4ae0078e23e2",
        "colab": {
          "base_uri": "https://localhost:8080/"
        },
        "outputId": "d6ff240b-7004-4e4e-8c62-0b539badde32"
      },
      "outputs": [
        {
          "output_type": "stream",
          "name": "stdout",
          "text": [
            "Result: Total Number of Reviews per Language\n",
            "  language  total_reviews\n",
            "0       de         200000\n",
            "1       en         200000\n",
            "2       es         200000\n",
            "3       fr         200000\n",
            "4       ja         200000\n",
            "5       zh         200000\n"
          ]
        }
      ],
      "source": [
        "total_reviews_per_language = df['language'].value_counts().reset_index()\n",
        "total_reviews_per_language.columns = ['language', 'total_reviews']\n",
        "print(\"Result: Total Number of Reviews per Language\")\n",
        "print(total_reviews_per_language)"
      ]
    }
  ],
  "metadata": {
    "kernelspec": {
      "display_name": "Python 3",
      "name": "python3"
    },
    "language_info": {
      "codemirror_mode": {
        "name": "ipython",
        "version": 3
      },
      "file_extension": ".py",
      "mimetype": "text/x-python",
      "name": "python",
      "nbconvert_exporter": "python",
      "pygments_lexer": "ipython3",
      "version": "3.8.10"
    },
    "colab": {
      "provenance": [],
      "gpuType": "T4"
    },
    "accelerator": "GPU"
  },
  "nbformat": 4,
  "nbformat_minor": 5
}